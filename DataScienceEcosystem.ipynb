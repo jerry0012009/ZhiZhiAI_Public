{
 "cells": [
  {
   "cell_type": "markdown",
   "id": "7ffcd826-31d1-46ae-83b8-04e1c489cec8",
   "metadata": {},
   "source": [
    "# Data Science Tools and Ecosystem"
   ]
  },
  {
   "cell_type": "markdown",
   "id": "9bc34a2b-e98a-4b5b-8df9-019d72958a16",
   "metadata": {},
   "source": [
    "In this notebook, Data Science Tools and Ecosystem are summarized."
   ]
  },
  {
   "cell_type": "markdown",
   "id": "0384a319-bec4-4d78-ab26-8e92f0ebc64a",
   "metadata": {},
   "source": [
    "**Objectives:**\n",
    "* List popular languages for Data Science\n",
    "* List Popular tools for Data Science\n",
    "* List commonly used libraries by Data Scientists"
   ]
  },
  {
   "cell_type": "markdown",
   "id": "043d7e62-4a48-4535-9033-703d21702acf",
   "metadata": {},
   "source": [
    "Some of the popular languages that Data Scientists use are:\n",
    "1. python\n",
    "2. R\n",
    "3. SQL"
   ]
  },
  {
   "cell_type": "markdown",
   "id": "11f7d58e-080d-4b57-a0d6-ae6c7ee9052d",
   "metadata": {},
   "source": [
    "Some of the commonly used libraries used by Data Scientists include:\n",
    "1. Pandas\n",
    "2. NumPy\n",
    "3. Matplotlib\n"
   ]
  },
  {
   "cell_type": "markdown",
   "id": "83193c62-e49b-4f0b-923c-58182ce16db5",
   "metadata": {
    "tags": []
   },
   "source": [
    "|Data Science tools|\n",
    "|---------|\n",
    "|MySQL|\n",
    "|MongoDB|\n",
    "|Hadoop|\n"
   ]
  },
  {
   "cell_type": "markdown",
   "id": "e268c17f-b520-4b27-a5e7-f56a4fbcc067",
   "metadata": {},
   "source": [
    "### Below are a few examples of evaluating arithmetic expressions in Python"
   ]
  },
  {
   "cell_type": "code",
   "execution_count": 5,
   "id": "076531a1-9c6e-4070-a396-4860e4bc773f",
   "metadata": {
    "tags": []
   },
   "outputs": [
    {
     "data": {
      "text/plain": [
       "17"
      ]
     },
     "execution_count": 5,
     "metadata": {},
     "output_type": "execute_result"
    }
   ],
   "source": [
    "# This a simple arithmetic expression to mutiply then add integers\n",
    "(3*4)+5"
   ]
  },
  {
   "cell_type": "code",
   "execution_count": 6,
   "id": "608de733-bde6-4622-85ce-8114ea3f603e",
   "metadata": {
    "tags": []
   },
   "outputs": [
    {
     "name": "stdout",
     "output_type": "stream",
     "text": [
      "3.3333333333333335\n"
     ]
    }
   ],
   "source": [
    "# This will convert 200 minutes to hours by dividing by 60\n",
    "minutes = 200\n",
    "hours = minutes / 60\n",
    "print(hours)"
   ]
  },
  {
   "cell_type": "markdown",
   "id": "63b470b4-49dc-4b55-8597-a3f8974c7c90",
   "metadata": {},
   "source": [
    "## Author\n",
    "Zhongrui Wang"
   ]
  },
  {
   "cell_type": "code",
   "execution_count": null,
   "id": "34b2a71b-a0df-4e2b-9535-06a3aec0507a",
   "metadata": {},
   "outputs": [],
   "source": []
  }
 ],
 "metadata": {
  "kernelspec": {
   "display_name": "Python",
   "language": "python",
   "name": "conda-env-python-py"
  },
  "language_info": {
   "codemirror_mode": {
    "name": "ipython",
    "version": 3
   },
   "file_extension": ".py",
   "mimetype": "text/x-python",
   "name": "python",
   "nbconvert_exporter": "python",
   "pygments_lexer": "ipython3",
   "version": "3.7.12"
  }
 },
 "nbformat": 4,
 "nbformat_minor": 5
}
